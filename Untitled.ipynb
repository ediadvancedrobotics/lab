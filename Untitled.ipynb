{
 "cells": [
  {
   "cell_type": "code",
   "execution_count": 1,
   "id": "be766ec9-1f94-49fb-a583-06f443bdf9db",
   "metadata": {},
   "outputs": [
    {
     "name": "stderr",
     "output_type": "stream",
     "text": [
      "pybullet build time: May 17 2025 21:04:57\n"
     ]
    }
   ],
   "source": [
    "from inverse_geometry import computeqgrasppose"
   ]
  },
  {
   "cell_type": "code",
   "execution_count": 2,
   "id": "68227652-0c9e-4af6-9d0b-87e217e03f0b",
   "metadata": {},
   "outputs": [
    {
     "name": "stdout",
     "output_type": "stream",
     "text": [
      "Wrapper tries to connect to server <tcp://127.0.0.1:6000>\n",
      "You can open the visualizer by visiting the following URL:\n",
      "http://127.0.0.1:7001/static/\n"
     ]
    }
   ],
   "source": [
    "from tools import setupwithmeshcat\n",
    "robot, cube, viz = setupwithmeshcat(url=\"tcp://127.0.0.1:6000\")"
   ]
  },
  {
   "cell_type": "code",
   "execution_count": 3,
   "id": "7e829a6a-1b19-4fcf-8f6e-68e944f5c495",
   "metadata": {},
   "outputs": [
    {
     "name": "stdout",
     "output_type": "stream",
     "text": [
      "tcp://127.0.0.1:6000\n"
     ]
    }
   ],
   "source": [
    "from config import MESHCAT_URL\n",
    "print(MESHCAT_URL)"
   ]
  },
  {
   "cell_type": "code",
   "execution_count": 4,
   "id": "948cc2a3-c520-442e-be4b-99fa75569f09",
   "metadata": {},
   "outputs": [
    {
     "data": {
      "text/html": [
       "\n",
       "            <div style=\"height: 400px; width: 100%; overflow-x: auto; overflow-y: hidden; resize: both\">\n",
       "            <iframe src=\"http://127.0.0.1:7001/static/\" style=\"width: 100%; height: 100%; border: none\"></iframe>\n",
       "            </div>\n",
       "            "
      ],
      "text/plain": [
       "<IPython.core.display.HTML object>"
      ]
     },
     "execution_count": 4,
     "metadata": {},
     "output_type": "execute_result"
    }
   ],
   "source": [
    "hasattr(viz.viewer, 'jupyter_cell') and viz.viewer.jupyter_cell()"
   ]
  },
  {
   "cell_type": "code",
   "execution_count": 5,
   "id": "6683d3cc-1a3a-4ad8-a655-edd273432293",
   "metadata": {},
   "outputs": [],
   "source": [
    "from config import CUBE_PLACEMENT_TARGET\n",
    "cubetarget = CUBE_PLACEMENT_TARGET\n",
    "qcurrent = robot.q0"
   ]
  },
  {
   "cell_type": "code",
   "execution_count": 6,
   "id": "ae8201e6-2be1-414d-8f39-7e72e0c695a2",
   "metadata": {},
   "outputs": [
    {
     "ename": "ValueError",
     "evalue": "matmul: Input operand 1 has a mismatch in its core dimension 0, with gufunc signature (n?,k),(k,m?)->(n?,m?) (size 15 is different from 6)",
     "output_type": "error",
     "traceback": [
      "\u001b[31m---------------------------------------------------------------------------\u001b[39m",
      "\u001b[31mValueError\u001b[39m                                Traceback (most recent call last)",
      "\u001b[36mCell\u001b[39m\u001b[36m \u001b[39m\u001b[32mIn[6]\u001b[39m\u001b[32m, line 1\u001b[39m\n\u001b[32m----> \u001b[39m\u001b[32m1\u001b[39m q, success = \u001b[43mcomputeqgrasppose\u001b[49m\u001b[43m(\u001b[49m\u001b[43mrobot\u001b[49m\u001b[43m,\u001b[49m\u001b[43m \u001b[49m\u001b[43mqcurrent\u001b[49m\u001b[43m,\u001b[49m\u001b[43m \u001b[49m\u001b[43mcube\u001b[49m\u001b[43m,\u001b[49m\u001b[43m \u001b[49m\u001b[43mcubetarget\u001b[49m\u001b[43m,\u001b[49m\u001b[43m \u001b[49m\u001b[43mviz\u001b[49m\u001b[43m)\u001b[49m\n",
      "\u001b[36mFile \u001b[39m\u001b[32m~/Code/ARO/lab/inverse_geometry.py:56\u001b[39m, in \u001b[36mcomputeqgrasppose\u001b[39m\u001b[34m(robot, qcurrent, cube, cubetarget, viz)\u001b[39m\n\u001b[32m     54\u001b[39m vq = pinv(lhand_Jlhand)\u001b[38;5;129m@lhand_nu\u001b[39m\n\u001b[32m     55\u001b[39m Prhand = np.eye(robot.nv)-pinv(o_Jrhand) @ o_Jrhand\n\u001b[32m---> \u001b[39m\u001b[32m56\u001b[39m vq += pinv(rhand_Jrhand @ Prhand) @ (\u001b[43m(\u001b[49m\u001b[43mo_Jlhand\u001b[49m\u001b[43m \u001b[49m\u001b[43m-\u001b[49m\u001b[43m \u001b[49m\u001b[43mo_Jrhand\u001b[49m\u001b[43m)\u001b[49m\u001b[43m.\u001b[49m\u001b[43mT\u001b[49m\u001b[43m \u001b[49m\u001b[43m@\u001b[49m\u001b[43m \u001b[49m\u001b[43mvq\u001b[49m)\n\u001b[32m     58\u001b[39m q = pin.integrate(robot.model,q, vq)\n\u001b[32m     60\u001b[39m lerror = norm(oMlhand.translation - oMlhook.translation)\n",
      "\u001b[31mValueError\u001b[39m: matmul: Input operand 1 has a mismatch in its core dimension 0, with gufunc signature (n?,k),(k,m?)->(n?,m?) (size 15 is different from 6)"
     ]
    }
   ],
   "source": [
    "q, success = computeqgrasppose(robot, qcurrent, cube, cubetarget, viz)"
   ]
  },
  {
   "cell_type": "code",
   "execution_count": 10,
   "id": "4d05cbce-2ece-4adc-8d70-b434a72a806c",
   "metadata": {},
   "outputs": [
    {
     "data": {
      "text/plain": [
       "True"
      ]
     },
     "execution_count": 10,
     "metadata": {},
     "output_type": "execute_result"
    }
   ],
   "source": [
    "from tools import collision\n",
    "\n",
    "collision(robot, robot.q0)"
   ]
  },
  {
   "cell_type": "code",
   "execution_count": null,
   "id": "c3e5bc01-7f2c-42f9-b768-9487d24408d0",
   "metadata": {},
   "outputs": [],
   "source": []
  }
 ],
 "metadata": {
  "kernelspec": {
   "display_name": "Python 3 (ipykernel)",
   "language": "python",
   "name": "python3"
  },
  "language_info": {
   "codemirror_mode": {
    "name": "ipython",
    "version": 3
   },
   "file_extension": ".py",
   "mimetype": "text/x-python",
   "name": "python",
   "nbconvert_exporter": "python",
   "pygments_lexer": "ipython3",
   "version": "3.13.7"
  }
 },
 "nbformat": 4,
 "nbformat_minor": 5
}
